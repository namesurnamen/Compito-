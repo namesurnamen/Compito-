{
 "cells": [
  {
   "cell_type": "markdown",
   "id": "73320337-3497-4ed6-8bc0-3bcf55c81678",
   "metadata": {},
   "source": [
    "# Data Science Tools and Ecosystem"
   ]
  },
  {
   "cell_type": "markdown",
   "id": "73bbe955-bb01-4c60-b46a-cd46351b0ded",
   "metadata": {},
   "source": [
    "In questo notebook, vengono riassunti gli strumenti e l'ecosistema della Data Science."
   ]
  },
  {
   "cell_type": "markdown",
   "id": "a38cb3ac-4486-4d79-84a9-13d5ceecf9c4",
   "metadata": {},
   "source": [
    "Alcuni dei linguaggi popolari che i Data Scientist usano sono:\n",
    "1. Python\n",
    "2. R\n",
    "3. SQL"
   ]
  },
  {
   "cell_type": "markdown",
   "id": "fbdcb099-5166-49fe-995d-e2fcb8a0c212",
   "metadata": {},
   "source": [
    "**Obiettivi:**\n",
    "*   Elencare linguaggi popolari per la Data Science\n",
    "*   Elencare librerie comuni usate nella Data Science\n",
    "*   Creare tabelle in Markdown\n",
    "*   Eseguire semplici calcoli aritmetici in Python"
   ]
  },
  {
   "cell_type": "markdown",
   "id": "df125d76-f129-4425-9bfa-11fca246131c",
   "metadata": {},
   "source": [
    "Alcune delle librerie comunemente usate dai Data Scientist includono:\n",
    "1. Pandas\n",
    "2. NumPy\n",
    "3. Matplotlib\n",
    "4. Scikit-learn"
   ]
  },
  {
   "cell_type": "markdown",
   "id": "34c000d8-c097-4c72-8410-b812645dc739",
   "metadata": {},
   "source": [
    "| Data Science Tools |\n",
    "|---|\n",
    "| Jupyter Notebooks  |\n",
    "| RStudio            |\n",
    "| VS Code            |"
   ]
  },
  {
   "cell_type": "markdown",
   "id": "65fd555f-6234-4d3c-b4ec-b512677b93c8",
   "metadata": {},
   "source": [
    "### Di seguito sono riportati alcuni esempi di valutazione delle espressioni aritmetiche in Python."
   ]
  },
  {
   "cell_type": "code",
   "execution_count": 3,
   "id": "a8c4f0bf-df4d-4c37-87b4-7f118ac8fb30",
   "metadata": {},
   "outputs": [
    {
     "data": {
      "text/plain": [
       "17"
      ]
     },
     "execution_count": 3,
     "metadata": {},
     "output_type": "execute_result"
    }
   ],
   "source": [
    "# Questa è una semplice espressione aritmetica per moltiplicare e poi sommare interi.\n",
    "(3*4)+5"
   ]
  },
  {
   "cell_type": "code",
   "execution_count": 4,
   "id": "dcc28cfb-d9f0-4b4e-b47d-70e507976057",
   "metadata": {},
   "outputs": [
    {
     "data": {
      "text/plain": [
       "3.3333333333333335"
      ]
     },
     "execution_count": 4,
     "metadata": {},
     "output_type": "execute_result"
    }
   ],
   "source": [
    "# Questo convertirà 200 minuti in ore dividendo per 60.\n",
    "200 / 60"
   ]
  },
  {
   "cell_type": "markdown",
   "id": "713e0606-21ca-43ff-a72b-120d1cbdefea",
   "metadata": {},
   "source": [
    "## Autore\n",
    "Silvio Scarafile"
   ]
  },
  {
   "cell_type": "code",
   "execution_count": null,
   "id": "03a91258-b2cb-4ef0-a908-4f29e651c2f3",
   "metadata": {},
   "outputs": [],
   "source": []
  }
 ],
 "metadata": {
  "kernelspec": {
   "display_name": "Python 3 (ipykernel)",
   "language": "python",
   "name": "python3"
  },
  "language_info": {
   "codemirror_mode": {
    "name": "ipython",
    "version": 3
   },
   "file_extension": ".py",
   "mimetype": "text/x-python",
   "name": "python",
   "nbconvert_exporter": "python",
   "pygments_lexer": "ipython3",
   "version": "3.12.8"
  }
 },
 "nbformat": 4,
 "nbformat_minor": 5
}
